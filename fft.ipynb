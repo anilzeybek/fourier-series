{
 "cells": [
  {
   "cell_type": "code",
   "execution_count": 1,
   "id": "a3d3d91d-a4e0-4af2-993c-1b8153b24693",
   "metadata": {},
   "outputs": [],
   "source": [
    "from scipy.linalg import dft\n",
    "from numpy import conj\n",
    "import numpy as np"
   ]
  },
  {
   "cell_type": "code",
   "execution_count": 2,
   "id": "3aaec110-4db7-42d5-b3b6-03c3a16d2ee7",
   "metadata": {},
   "outputs": [],
   "source": [
    "def DIT_FFT(N, s):\n",
    "    even_part = [s[i] for i in range(len(s)) if i % 2 == 0]\n",
    "    odd_part = [s[i] for i in range(len(s)) if i % 2 != 0]\n",
    "            \n",
    "    F = dft(N//2) @ even_part\n",
    "    G = dft(N//2) @ odd_part\n",
    "    \n",
    "    W_N = np.exp(-1j * (2 * np.pi / N))\n",
    "    \n",
    "    X = []\n",
    "    for i in range(N//2):\n",
    "        X.append(F[i] + (W_N ** i) * G[i])\n",
    "        \n",
    "    for i in range(N//2):\n",
    "        X.append(F[i] - (W_N ** i) * G[i])\n",
    "        \n",
    "    return X"
   ]
  },
  {
   "cell_type": "code",
   "execution_count": 3,
   "id": "fd56dfbc-a076-4119-8855-2aba63fa74bb",
   "metadata": {},
   "outputs": [],
   "source": [
    "def inverse_DIT_FFT(N, s):\n",
    "    even_part = [s[i] for i in range(len(s)) if i % 2 == 0]\n",
    "    odd_part = [s[i] for i in range(len(s)) if i % 2 != 0]\n",
    "            \n",
    "    F = dft(N//2) @ even_part\n",
    "    G = dft(N//2) @ odd_part\n",
    "    \n",
    "    W_N = np.exp(-1j * (2 * np.pi / N))\n",
    "    \n",
    "    X = []\n",
    "    for i in range(N//2):\n",
    "        X.append(F[i] + conj(W_N ** i) * G[i])\n",
    "        \n",
    "    for i in range(N//2):\n",
    "        X.append(F[i] - conj(W_N ** i) * G[i])\n",
    "        \n",
    "    return [x / N for x in X]"
   ]
  },
  {
   "cell_type": "code",
   "execution_count": null,
   "id": "f2153a7c-c643-45dd-85f0-4e2e05fc755c",
   "metadata": {},
   "outputs": [],
   "source": []
  },
  {
   "cell_type": "code",
   "execution_count": null,
   "id": "f6a1c036-2ac9-45d8-b569-8f59ffdbf1f9",
   "metadata": {},
   "outputs": [],
   "source": []
  },
  {
   "cell_type": "code",
   "execution_count": 4,
   "id": "94d4ff2e-baf8-4d91-9c01-b8b5d9929151",
   "metadata": {},
   "outputs": [
    {
     "data": {
      "text/plain": [
       "[(10+0j),\n",
       " (-2.0000000000000004+1.9999999999999996j),\n",
       " (-2+0j),\n",
       " (-1.9999999999999993-2.0000000000000004j)]"
      ]
     },
     "execution_count": 4,
     "metadata": {},
     "output_type": "execute_result"
    }
   ],
   "source": [
    "DIT_FFT(4, [1, 2, 3, 4])"
   ]
  },
  {
   "cell_type": "code",
   "execution_count": 5,
   "id": "96bea415-5a12-435d-bd67-9cb8ef3956b4",
   "metadata": {},
   "outputs": [
    {
     "data": {
      "text/plain": [
       "[(1+0j), (2+6.695352868347749e-17j), (3+0j), (4+5.551115123125783e-17j)]"
      ]
     },
     "execution_count": 5,
     "metadata": {},
     "output_type": "execute_result"
    }
   ],
   "source": [
    "inverse_DIT_FFT(4, [10, -2+2j, -2, -2-2j])"
   ]
  }
 ],
 "metadata": {
  "kernelspec": {
   "display_name": "Python 3",
   "language": "python",
   "name": "python3"
  },
  "language_info": {
   "codemirror_mode": {
    "name": "ipython",
    "version": 3
   },
   "file_extension": ".py",
   "mimetype": "text/x-python",
   "name": "python",
   "nbconvert_exporter": "python",
   "pygments_lexer": "ipython3",
   "version": "3.8.8"
  }
 },
 "nbformat": 4,
 "nbformat_minor": 5
}
