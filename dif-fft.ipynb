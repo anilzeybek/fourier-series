{
 "cells": [
  {
   "cell_type": "code",
   "execution_count": 1,
   "id": "e225bfd5-ca97-4d8d-932a-634dabbeae7e",
   "metadata": {},
   "outputs": [],
   "source": [
    "from scipy.linalg import dft\n",
    "from numpy import conj\n",
    "import numpy as np"
   ]
  },
  {
   "cell_type": "code",
   "execution_count": 2,
   "id": "93ef0e26-c8d5-425f-960f-37e45704c649",
   "metadata": {},
   "outputs": [],
   "source": [
    "def DIF_FFT(N, s):\n",
    "    W_N = np.exp(-1j * (2 * np.pi / N))\n",
    "    \n",
    "    p = [s[i] + s[i + N//2] for i in range(N//2)]\n",
    "    q = [(s[i] - s[i + N//2]) * (W_N ** i) for i in range(N//2)]\n",
    "    \n",
    "    P = dft(N//2) @ p\n",
    "    Q = dft(N//2) @ q\n",
    "    \n",
    "    result = []\n",
    "    for i in range(N//2):\n",
    "        result.append(P[i])\n",
    "        result.append(Q[i])        \n",
    "        \n",
    "    return result"
   ]
  },
  {
   "cell_type": "code",
   "execution_count": 3,
   "id": "d76ab217-bacc-4ca9-8a55-6f7315335de5",
   "metadata": {},
   "outputs": [],
   "source": [
    "def DIF_radix2(N, s):\n",
    "    if N == 2:\n",
    "        a = s[0] + s[1]\n",
    "        b = s[0] - s[1]\n",
    "        return [a, b]\n",
    "    \n",
    "    W_N = np.exp(-1j * (2 * np.pi / N))\n",
    "    \n",
    "    p = [s[i] + s[i + N//2] for i in range(N//2)]\n",
    "    q = [(s[i] - s[i + N//2]) * (W_N ** i) for i in range(N//2)]\n",
    "    \n",
    "    r1 = DIF_radix2(N//2, p)\n",
    "    r2 = DIF_radix2(N//2, q)\n",
    "    \n",
    "    return r1+r2"
   ]
  },
  {
   "cell_type": "code",
   "execution_count": null,
   "id": "fdb59a0f-2fbc-4ae4-82ea-5640962cae7c",
   "metadata": {},
   "outputs": [],
   "source": []
  },
  {
   "cell_type": "code",
   "execution_count": null,
   "id": "41b40721-d3f1-4d1e-9f66-d4b1c030fb3b",
   "metadata": {},
   "outputs": [],
   "source": []
  },
  {
   "cell_type": "code",
   "execution_count": 4,
   "id": "95b23c60-d3dc-4821-b04e-2ead0f4de6ae",
   "metadata": {},
   "outputs": [
    {
     "data": {
      "text/plain": [
       "[0j,\n",
       " (1.9999999999999996+2j),\n",
       " (4.898587196589413e-16-4j),\n",
       " (2.000000000000001-2j),\n",
       " 4.898587196589412e-16j,\n",
       " (1.9999999999999991+2j),\n",
       " (-1.4695761589768238e-15+4j),\n",
       " (2.0000000000000013-2j)]"
      ]
     },
     "execution_count": 4,
     "metadata": {},
     "output_type": "execute_result"
    }
   ],
   "source": [
    "DIF_FFT(8, [1, 1, -1, -1, -1, 1, 1, -1])"
   ]
  },
  {
   "cell_type": "code",
   "execution_count": 5,
   "id": "4a78bc27-152e-46df-b52a-f23f7a48e983",
   "metadata": {},
   "outputs": [
    {
     "data": {
      "text/plain": [
       "[0,\n",
       " 4,\n",
       " (2-2j),\n",
       " (1.9999999999999998+2j),\n",
       " (-1.4142135623730956+3.414213562373095j),\n",
       " (1.4142135623730947+0.5857864376269051j),\n",
       " (1.4142135623730954-0.5857864376269049j),\n",
       " (-1.4142135623730945-3.414213562373095j)]"
      ]
     },
     "execution_count": 5,
     "metadata": {},
     "output_type": "execute_result"
    }
   ],
   "source": [
    "r = DIF_radix2(8, [1, -1, -1, -1, 1, 1, 1, -1]) \n",
    "# Don't forget to rearrange it!!!!\n",
    "# 0, 4, 2, 6, 1, 5, 3, 7"
   ]
  },
  {
   "cell_type": "code",
   "execution_count": null,
   "id": "dc48ab79-936a-4618-af64-a9f2f4495c63",
   "metadata": {},
   "outputs": [],
   "source": []
  }
 ],
 "metadata": {
  "kernelspec": {
   "display_name": "Python 3",
   "language": "python",
   "name": "python3"
  },
  "language_info": {
   "codemirror_mode": {
    "name": "ipython",
    "version": 3
   },
   "file_extension": ".py",
   "mimetype": "text/x-python",
   "name": "python",
   "nbconvert_exporter": "python",
   "pygments_lexer": "ipython3",
   "version": "3.8.8"
  }
 },
 "nbformat": 4,
 "nbformat_minor": 5
}
