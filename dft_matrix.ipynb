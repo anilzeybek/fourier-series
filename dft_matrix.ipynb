{
 "cells": [
  {
   "cell_type": "code",
   "execution_count": 4,
   "id": "b4012a2a-0ef6-4225-9757-884802b67df4",
   "metadata": {},
   "outputs": [],
   "source": [
    "from scipy.linalg import dft\n",
    "from numpy import conj"
   ]
  },
  {
   "cell_type": "markdown",
   "id": "bb8a8e96-05b2-4a62-9b63-fb09880426a7",
   "metadata": {},
   "source": [
    "DFT:"
   ]
  },
  {
   "cell_type": "code",
   "execution_count": 5,
   "id": "f1d36df4-ce27-4ea0-88f6-7fe509bd7f5c",
   "metadata": {},
   "outputs": [
    {
     "data": {
      "text/plain": [
       "array([3.997e+00+0.00000000e+00j, 1.000e-03-1.00000000e-03j,\n",
       "       1.000e-03-2.44561966e-16j, 1.000e-03+1.00000000e-03j])"
      ]
     },
     "execution_count": 5,
     "metadata": {},
     "output_type": "execute_result"
    }
   ],
   "source": [
    "dft(4) @ [1, 1999/2000, 1998/2000, 1997/2000]"
   ]
  },
  {
   "cell_type": "markdown",
   "id": "1f87b1a3-fb53-46a8-b1e5-2a69fd38db16",
   "metadata": {},
   "source": [
    "Inverse DFT:"
   ]
  },
  {
   "cell_type": "code",
   "execution_count": 3,
   "id": "77752765-31c0-412f-938b-a0cd37180c4d",
   "metadata": {},
   "outputs": [
    {
     "data": {
      "text/plain": [
       "array([0.+0.00000000e+00j, 1.+1.11022302e-16j, 2.-1.66533454e-16j,\n",
       "       3.-4.99600361e-16j])"
      ]
     },
     "execution_count": 3,
     "metadata": {},
     "output_type": "execute_result"
    }
   ],
   "source": [
    "1/4 * conj(dft(4)) @ [6, -2+2j, -2, -2-2j]"
   ]
  }
 ],
 "metadata": {
  "kernelspec": {
   "display_name": "Python 3",
   "language": "python",
   "name": "python3"
  },
  "language_info": {
   "codemirror_mode": {
    "name": "ipython",
    "version": 3
   },
   "file_extension": ".py",
   "mimetype": "text/x-python",
   "name": "python",
   "nbconvert_exporter": "python",
   "pygments_lexer": "ipython3",
   "version": "3.8.8"
  }
 },
 "nbformat": 4,
 "nbformat_minor": 5
}
